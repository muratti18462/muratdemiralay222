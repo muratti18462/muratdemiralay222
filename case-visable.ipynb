{
 "cells": [
  {
   "cell_type": "code",
   "execution_count": 37,
   "metadata": {
    "execution": {
     "iopub.execute_input": "2024-01-28T14:31:24.818138Z",
     "iopub.status.busy": "2024-01-28T14:31:24.817746Z",
     "iopub.status.idle": "2024-01-28T14:31:24.825956Z",
     "shell.execute_reply": "2024-01-28T14:31:24.824745Z",
     "shell.execute_reply.started": "2024-01-28T14:31:24.818108Z"
    }
   },
   "outputs": [],
   "source": [
    "import numpy as np \n",
    "import pandas as pd\n",
    "from sklearn.feature_extraction.text import CountVectorizer\n",
    "from sklearn.model_selection import StratifiedKFold\n",
    "import seaborn as sns\n",
    "from sklearn.model_selection import train_test_split\n",
    "from sklearn.model_selection import GridSearchCV\n",
    "from sklearn.naive_bayes import MultinomialNB\n",
    "from sklearn.metrics import make_scorer, f1_score\n",
    "import matplotlib.pyplot as plt\n",
    "from sklearn.metrics import classification_report\n",
    "from sklearn.pipeline import Pipeline\n",
    "import nltk\n",
    "import re\n",
    "import pickle\n",
    "\n",
    "pd.set_option('display.max_colwidth', None)"
   ]
  },
  {
   "cell_type": "code",
   "execution_count": 38,
   "metadata": {
    "execution": {
     "iopub.execute_input": "2024-01-28T14:31:25.022219Z",
     "iopub.status.busy": "2024-01-28T14:31:25.021294Z",
     "iopub.status.idle": "2024-01-28T14:31:25.071677Z",
     "shell.execute_reply": "2024-01-28T14:31:25.070780Z",
     "shell.execute_reply.started": "2024-01-28T14:31:25.022180Z"
    }
   },
   "outputs": [],
   "source": [
    "df = pd.read_csv(\"/kaggle/input/casedatasi/sample_data.csv\")"
   ]
  },
  {
   "cell_type": "code",
   "execution_count": 39,
   "metadata": {
    "execution": {
     "iopub.execute_input": "2024-01-28T14:31:25.498495Z",
     "iopub.status.busy": "2024-01-28T14:31:25.497891Z",
     "iopub.status.idle": "2024-01-28T14:31:25.508396Z",
     "shell.execute_reply": "2024-01-28T14:31:25.507336Z",
     "shell.execute_reply.started": "2024-01-28T14:31:25.498461Z"
    }
   },
   "outputs": [
    {
     "data": {
      "text/html": [
       "<div>\n",
       "<style scoped>\n",
       "    .dataframe tbody tr th:only-of-type {\n",
       "        vertical-align: middle;\n",
       "    }\n",
       "\n",
       "    .dataframe tbody tr th {\n",
       "        vertical-align: top;\n",
       "    }\n",
       "\n",
       "    .dataframe thead th {\n",
       "        text-align: right;\n",
       "    }\n",
       "</style>\n",
       "<table border=\"1\" class=\"dataframe\">\n",
       "  <thead>\n",
       "    <tr style=\"text-align: right;\">\n",
       "      <th></th>\n",
       "      <th>text</th>\n",
       "      <th>label</th>\n",
       "    </tr>\n",
       "  </thead>\n",
       "  <tbody>\n",
       "    <tr>\n",
       "      <th>0</th>\n",
       "      <td>zucker fabrik</td>\n",
       "      <td>ft</td>\n",
       "    </tr>\n",
       "    <tr>\n",
       "      <th>1</th>\n",
       "      <td>Lebensmittel kommssionierung</td>\n",
       "      <td>ft</td>\n",
       "    </tr>\n",
       "    <tr>\n",
       "      <th>2</th>\n",
       "      <td>geländer biegen</td>\n",
       "      <td>mr</td>\n",
       "    </tr>\n",
       "    <tr>\n",
       "      <th>3</th>\n",
       "      <td>gebäudeausrüstung technische</td>\n",
       "      <td>ct</td>\n",
       "    </tr>\n",
       "    <tr>\n",
       "      <th>4</th>\n",
       "      <td>kürbiskernöl softgels</td>\n",
       "      <td>ft</td>\n",
       "    </tr>\n",
       "  </tbody>\n",
       "</table>\n",
       "</div>"
      ],
      "text/plain": [
       "                           text label\n",
       "0                 zucker fabrik    ft\n",
       "1  Lebensmittel kommssionierung    ft\n",
       "2               geländer biegen    mr\n",
       "3  gebäudeausrüstung technische    ct\n",
       "4         kürbiskernöl softgels    ft"
      ]
     },
     "execution_count": 39,
     "metadata": {},
     "output_type": "execute_result"
    }
   ],
   "source": [
    "df.head()"
   ]
  },
  {
   "cell_type": "code",
   "execution_count": 40,
   "metadata": {
    "execution": {
     "iopub.execute_input": "2024-01-28T14:31:26.748149Z",
     "iopub.status.busy": "2024-01-28T14:31:26.747703Z",
     "iopub.status.idle": "2024-01-28T14:31:27.094257Z",
     "shell.execute_reply": "2024-01-28T14:31:27.093205Z",
     "shell.execute_reply.started": "2024-01-28T14:31:26.748106Z"
    }
   },
   "outputs": [
    {
     "data": {
      "text/plain": [
       "<Axes: xlabel='label', ylabel='Count'>"
      ]
     },
     "execution_count": 40,
     "metadata": {},
     "output_type": "execute_result"
    },
    {
     "data": {
      "image/png": "[encoded data removed]",
      "text/plain": [
       "<Figure size 640x480 with 1 Axes>"
      ]
     },
     "metadata": {},
     "output_type": "display_data"
    }
   ],
   "source": [
    "sns.histplot(data=df, x=\"label\")"
   ]
  },
  {
   "cell_type": "code",
   "execution_count": 41,
   "metadata": {
    "execution": {
     "iopub.execute_input": "2024-01-28T14:31:27.097060Z",
     "iopub.status.busy": "2024-01-28T14:31:27.096355Z",
     "iopub.status.idle": "2024-01-28T14:31:27.127922Z",
     "shell.execute_reply": "2024-01-28T14:31:27.126730Z",
     "shell.execute_reply.started": "2024-01-28T14:31:27.097017Z"
    }
   },
   "outputs": [],
   "source": [
    "df['text'] = df['text'].str.lower()"
   ]
  },
  {
   "cell_type": "code",
   "execution_count": 42,
   "metadata": {
    "execution": {
     "iopub.execute_input": "2024-01-28T14:31:28.859498Z",
     "iopub.status.busy": "2024-01-28T14:31:28.858637Z",
     "iopub.status.idle": "2024-01-28T14:31:28.876134Z",
     "shell.execute_reply": "2024-01-28T14:31:28.875016Z",
     "shell.execute_reply.started": "2024-01-28T14:31:28.859450Z"
    }
   },
   "outputs": [
    {
     "data": {
      "text/plain": [
       "text       0\n",
       "label    100\n",
       "dtype: int64"
      ]
     },
     "execution_count": 42,
     "metadata": {},
     "output_type": "execute_result"
    }
   ],
   "source": [
    "df.isna().sum()"
   ]
  },
  {
   "cell_type": "markdown",
   "metadata": {},
   "source": [
    "# EDA CLEANING"
   ]
  },
  {
   "cell_type": "code",
   "execution_count": 43,
   "metadata": {
    "execution": {
     "iopub.execute_input": "2024-01-28T14:31:29.238361Z",
     "iopub.status.busy": "2024-01-28T14:31:29.237619Z",
     "iopub.status.idle": "2024-01-28T14:31:29.255526Z",
     "shell.execute_reply": "2024-01-28T14:31:29.254258Z",
     "shell.execute_reply.started": "2024-01-28T14:31:29.238314Z"
    }
   },
   "outputs": [
    {
     "data": {
      "text/plain": [
       "label\n",
       "mr     50\n",
       "ct     50\n",
       "pkg    50\n",
       "cnc    50\n",
       "ch     50\n",
       "ft     50\n",
       "Name: count, dtype: int64"
      ]
     },
     "execution_count": 43,
     "metadata": {},
     "output_type": "execute_result"
    }
   ],
   "source": [
    "# Some rows has this symbol, label distribution are same it doesn't contain any information, so will be dropped\n",
    "df[df.text == \"吉祥\"].label.value_counts()"
   ]
  },
  {
   "cell_type": "code",
   "execution_count": 44,
   "metadata": {
    "execution": {
     "iopub.execute_input": "2024-01-28T14:31:30.374807Z",
     "iopub.status.busy": "2024-01-28T14:31:30.374432Z",
     "iopub.status.idle": "2024-01-28T14:31:30.391340Z",
     "shell.execute_reply": "2024-01-28T14:31:30.390236Z",
     "shell.execute_reply.started": "2024-01-28T14:31:30.374776Z"
    }
   },
   "outputs": [
    {
     "data": {
      "text/plain": [
       "label\n",
       "mr     50\n",
       "cnc    50\n",
       "ft     50\n",
       "pkg    50\n",
       "ct     50\n",
       "ch     50\n",
       "Name: count, dtype: int64"
      ]
     },
     "execution_count": 44,
     "metadata": {},
     "output_type": "execute_result"
    }
   ],
   "source": [
    "# Also same rows are consist of just empty space, it doesn't contain any information, so will be dropped\n",
    "df[df.text == \" \"].label.value_counts()"
   ]
  },
  {
   "cell_type": "code",
   "execution_count": 45,
   "metadata": {
    "execution": {
     "iopub.execute_input": "2024-01-28T14:31:30.906661Z",
     "iopub.status.busy": "2024-01-28T14:31:30.906260Z",
     "iopub.status.idle": "2024-01-28T14:31:30.949046Z",
     "shell.execute_reply": "2024-01-28T14:31:30.948016Z",
     "shell.execute_reply.started": "2024-01-28T14:31:30.906629Z"
    }
   },
   "outputs": [
    {
     "data": {
      "text/plain": [
       "label\n",
       "cnc    50\n",
       "ct     50\n",
       "ch     50\n",
       "ft     50\n",
       "pkg    50\n",
       "mr     50\n",
       "Name: count, dtype: int64"
      ]
     },
     "execution_count": 45,
     "metadata": {},
     "output_type": "execute_result"
    }
   ],
   "source": [
    "# There is some rows only contain just numbers, label distribution are same it doesn't contain any information, so will be dropped\n",
    "df[df['text'].str.match(r'^\\d+$')].label.value_counts()"
   ]
  },
  {
   "cell_type": "markdown",
   "metadata": {},
   "source": [
    "# When we look closely, these numbers are not random, it repeating itself for every label. If this number some sort of a serial number for future predictions we can know which label this numbers are going to be.But for this projects sake I will drop them but further investigation can be done with the business team."
   ]
  },
  {
   "cell_type": "code",
   "execution_count": 46,
   "metadata": {
    "execution": {
     "iopub.execute_input": "2024-01-28T14:31:32.833490Z",
     "iopub.status.busy": "2024-01-28T14:31:32.833077Z",
     "iopub.status.idle": "2024-01-28T14:31:32.886261Z",
     "shell.execute_reply": "2024-01-28T14:31:32.885537Z",
     "shell.execute_reply.started": "2024-01-28T14:31:32.833454Z"
    }
   },
   "outputs": [
    {
     "data": {
      "text/html": [
       "<div>\n",
       "<style scoped>\n",
       "    .dataframe tbody tr th:only-of-type {\n",
       "        vertical-align: middle;\n",
       "    }\n",
       "\n",
       "    .dataframe tbody tr th {\n",
       "        vertical-align: top;\n",
       "    }\n",
       "\n",
       "    .dataframe thead th {\n",
       "        text-align: right;\n",
       "    }\n",
       "</style>\n",
       "<table border=\"1\" class=\"dataframe\">\n",
       "  <thead>\n",
       "    <tr style=\"text-align: right;\">\n",
       "      <th></th>\n",
       "      <th>text</th>\n",
       "      <th>label</th>\n",
       "    </tr>\n",
       "  </thead>\n",
       "  <tbody>\n",
       "    <tr>\n",
       "      <th>27773</th>\n",
       "      <td>40254401</td>\n",
       "      <td>pkg</td>\n",
       "    </tr>\n",
       "    <tr>\n",
       "      <th>11536</th>\n",
       "      <td>40254407</td>\n",
       "      <td>pkg</td>\n",
       "    </tr>\n",
       "    <tr>\n",
       "      <th>37079</th>\n",
       "      <td>402544013</td>\n",
       "      <td>pkg</td>\n",
       "    </tr>\n",
       "    <tr>\n",
       "      <th>35495</th>\n",
       "      <td>402544019</td>\n",
       "      <td>pkg</td>\n",
       "    </tr>\n",
       "    <tr>\n",
       "      <th>549</th>\n",
       "      <td>402544025</td>\n",
       "      <td>pkg</td>\n",
       "    </tr>\n",
       "    <tr>\n",
       "      <th>700</th>\n",
       "      <td>402544031</td>\n",
       "      <td>pkg</td>\n",
       "    </tr>\n",
       "    <tr>\n",
       "      <th>29143</th>\n",
       "      <td>402544037</td>\n",
       "      <td>pkg</td>\n",
       "    </tr>\n",
       "    <tr>\n",
       "      <th>36596</th>\n",
       "      <td>402544043</td>\n",
       "      <td>pkg</td>\n",
       "    </tr>\n",
       "    <tr>\n",
       "      <th>28516</th>\n",
       "      <td>402544049</td>\n",
       "      <td>pkg</td>\n",
       "    </tr>\n",
       "    <tr>\n",
       "      <th>35093</th>\n",
       "      <td>402544055</td>\n",
       "      <td>pkg</td>\n",
       "    </tr>\n",
       "  </tbody>\n",
       "</table>\n",
       "</div>"
      ],
      "text/plain": [
       "            text label\n",
       "27773   40254401   pkg\n",
       "11536   40254407   pkg\n",
       "37079  402544013   pkg\n",
       "35495  402544019   pkg\n",
       "549    402544025   pkg\n",
       "700    402544031   pkg\n",
       "29143  402544037   pkg\n",
       "36596  402544043   pkg\n",
       "28516  402544049   pkg\n",
       "35093  402544055   pkg"
      ]
     },
     "execution_count": 46,
     "metadata": {},
     "output_type": "execute_result"
    }
   ],
   "source": [
    "# this text start from 40254401 and adding 6 to each subsequent number\n",
    "pkg_num = df[(df['text'].str.match(r'^\\d+$')) & (df.label == \"pkg\")]\n",
    "pkg_num.loc[:, 'text'] = pkg_num['text'].astype(int)\n",
    "pkg_num.sort_values('text').head(10)"
   ]
  },
  {
   "cell_type": "code",
   "execution_count": 47,
   "metadata": {
    "execution": {
     "iopub.execute_input": "2024-01-28T14:31:33.142333Z",
     "iopub.status.busy": "2024-01-28T14:31:33.141594Z",
     "iopub.status.idle": "2024-01-28T14:31:33.194541Z",
     "shell.execute_reply": "2024-01-28T14:31:33.193362Z",
     "shell.execute_reply.started": "2024-01-28T14:31:33.142285Z"
    }
   },
   "outputs": [
    {
     "data": {
      "text/html": [
       "<div>\n",
       "<style scoped>\n",
       "    .dataframe tbody tr th:only-of-type {\n",
       "        vertical-align: middle;\n",
       "    }\n",
       "\n",
       "    .dataframe tbody tr th {\n",
       "        vertical-align: top;\n",
       "    }\n",
       "\n",
       "    .dataframe thead th {\n",
       "        text-align: right;\n",
       "    }\n",
       "</style>\n",
       "<table border=\"1\" class=\"dataframe\">\n",
       "  <thead>\n",
       "    <tr style=\"text-align: right;\">\n",
       "      <th></th>\n",
       "      <th>text</th>\n",
       "      <th>label</th>\n",
       "    </tr>\n",
       "  </thead>\n",
       "  <tbody>\n",
       "    <tr>\n",
       "      <th>14970</th>\n",
       "      <td>40254402</td>\n",
       "      <td>ft</td>\n",
       "    </tr>\n",
       "    <tr>\n",
       "      <th>14482</th>\n",
       "      <td>40254408</td>\n",
       "      <td>ft</td>\n",
       "    </tr>\n",
       "    <tr>\n",
       "      <th>37084</th>\n",
       "      <td>402544014</td>\n",
       "      <td>ft</td>\n",
       "    </tr>\n",
       "    <tr>\n",
       "      <th>19649</th>\n",
       "      <td>402544020</td>\n",
       "      <td>ft</td>\n",
       "    </tr>\n",
       "    <tr>\n",
       "      <th>32282</th>\n",
       "      <td>402544026</td>\n",
       "      <td>ft</td>\n",
       "    </tr>\n",
       "    <tr>\n",
       "      <th>34003</th>\n",
       "      <td>402544032</td>\n",
       "      <td>ft</td>\n",
       "    </tr>\n",
       "    <tr>\n",
       "      <th>11257</th>\n",
       "      <td>402544038</td>\n",
       "      <td>ft</td>\n",
       "    </tr>\n",
       "    <tr>\n",
       "      <th>3271</th>\n",
       "      <td>402544044</td>\n",
       "      <td>ft</td>\n",
       "    </tr>\n",
       "    <tr>\n",
       "      <th>8654</th>\n",
       "      <td>402544050</td>\n",
       "      <td>ft</td>\n",
       "    </tr>\n",
       "    <tr>\n",
       "      <th>12134</th>\n",
       "      <td>402544056</td>\n",
       "      <td>ft</td>\n",
       "    </tr>\n",
       "  </tbody>\n",
       "</table>\n",
       "</div>"
      ],
      "text/plain": [
       "            text label\n",
       "14970   40254402    ft\n",
       "14482   40254408    ft\n",
       "37084  402544014    ft\n",
       "19649  402544020    ft\n",
       "32282  402544026    ft\n",
       "34003  402544032    ft\n",
       "11257  402544038    ft\n",
       "3271   402544044    ft\n",
       "8654   402544050    ft\n",
       "12134  402544056    ft"
      ]
     },
     "execution_count": 47,
     "metadata": {},
     "output_type": "execute_result"
    }
   ],
   "source": [
    "# this ft start from 40254402 and adding 6 to each subsequent number\n",
    "ft_num = df[(df['text'].str.match(r'^\\d+$')) & (df.label == \"ft\")]\n",
    "ft_num.loc[:, 'text'] = ft_num['text'].astype(int)\n",
    "ft_num.sort_values('text').head(10)"
   ]
  },
  {
   "cell_type": "code",
   "execution_count": 48,
   "metadata": {
    "execution": {
     "iopub.execute_input": "2024-01-28T14:31:33.255397Z",
     "iopub.status.busy": "2024-01-28T14:31:33.254565Z",
     "iopub.status.idle": "2024-01-28T14:31:33.289984Z",
     "shell.execute_reply": "2024-01-28T14:31:33.289016Z",
     "shell.execute_reply.started": "2024-01-28T14:31:33.255352Z"
    }
   },
   "outputs": [
    {
     "data": {
      "text/plain": [
       "label\n",
       "mr     50\n",
       "cnc    50\n",
       "ch     50\n",
       "pkg    50\n",
       "ft     50\n",
       "ct     50\n",
       "Name: count, dtype: int64"
      ]
     },
     "execution_count": 48,
     "metadata": {},
     "output_type": "execute_result"
    }
   ],
   "source": [
    "# Some text contains emails, it doesn't contain any information, so will be dropped\n",
    "df[df['text'].str.contains(r'[@]')].label.value_counts()"
   ]
  },
  {
   "cell_type": "code",
   "execution_count": 50,
   "metadata": {
    "execution": {
     "iopub.execute_input": "2024-01-28T14:31:35.690546Z",
     "iopub.status.busy": "2024-01-28T14:31:35.690162Z",
     "iopub.status.idle": "2024-01-28T14:31:35.770646Z",
     "shell.execute_reply": "2024-01-28T14:31:35.769542Z",
     "shell.execute_reply.started": "2024-01-28T14:31:35.690516Z"
    }
   },
   "outputs": [],
   "source": [
    "# Also dropping empty rows\n",
    "df = df[(df.text.isna() == False) &(df.text != \" \") & (df.text != \"吉祥\") \n",
    "        & (~df['text'].str.match(r'^\\d+$')) & (~df['text'].str.contains(r'[@]'))]"
   ]
  },
  {
   "cell_type": "markdown",
   "metadata": {},
   "source": [
    "# Checking for duplicates, some rows appers more than in the dataset.Also for same text values there are two labels.I will correct them accordingly."
   ]
  },
  {
   "cell_type": "code",
   "execution_count": 51,
   "metadata": {
    "execution": {
     "iopub.execute_input": "2024-01-28T14:31:37.980288Z",
     "iopub.status.busy": "2024-01-28T14:31:37.979624Z",
     "iopub.status.idle": "2024-01-28T14:31:38.018674Z",
     "shell.execute_reply": "2024-01-28T14:31:38.017600Z",
     "shell.execute_reply.started": "2024-01-28T14:31:37.980251Z"
    }
   },
   "outputs": [
    {
     "data": {
      "text/plain": [
       "text                                               label\n",
       "flowpack verpackung                                pkg      2\n",
       "geothermische bohrungen                            ct       1\n",
       "abstandhalter kunststoff                           mr       1\n",
       "biologische verpackungen                           pkg      1\n",
       "geothermische bohrungen                            mr       1\n",
       "spirituosen abfüller                               ft       1\n",
       "                                                   pkg      1\n",
       "cnc laserschneiden                                 mr       1\n",
       "messer für haushaltswaren                          ft       1\n",
       "                                                   mr       1\n",
       "biologische verpackungen                           ft       1\n",
       "cnc drehereien                                     mr       1\n",
       "abstandhalter kunststoff                           pkg      1\n",
       "cnc drehereien                                     cnc      1\n",
       "cnc cutter                                         ft       1\n",
       "                                                   cnc      1\n",
       "cnc abkantpresse                                   mr       1\n",
       "                                                   cnc      1\n",
       "hersteller werkzeugmaschinen                       mr       1\n",
       "carbonplatten fräsen                               mr       1\n",
       "vorschubwalzen für holzbearbeitungsmaschinen       cnc      1\n",
       "                                                   mr       1\n",
       "gebrauchte holzbearbeitungsmaschinen               ct       1\n",
       "                                                   cnc      1\n",
       "werkzeugmaschinen hersteller                       mr       1\n",
       "kunststoffdosen lebensmittel                       pkg      1\n",
       "                                                   ft       1\n",
       "kunststoff zerspanung                              pkg      1\n",
       "                                                   mr       1\n",
       "kunststoff tempern                                 mr       1\n",
       "lohnabfüllung konfitüre                            ft       1\n",
       "                                                   pkg      1\n",
       "lohnabfüllung nahrungsergänzung                    ft       1\n",
       "                                                   pkg      1\n",
       "lohnabfüllung olivenöl                             pkg      1\n",
       "lohnabfüllung von ampullen für chemische lösungen  ch       1\n",
       "                                                   pkg      1\n",
       "auftauanlagen für gefrorene lebensmittel           ft       1\n",
       "                                                   pkg      1\n",
       "carbonplatten fräsen                               cnc      1\n",
       "Name: count, dtype: int64"
      ]
     },
     "execution_count": 51,
     "metadata": {},
     "output_type": "execute_result"
    }
   ],
   "source": [
    "df[df.duplicated(subset = 'text', keep = False)][[\"text\",\"label\"]].sort_values('text').value_counts().tail(40)"
   ]
  },
  {
   "cell_type": "code",
   "execution_count": 52,
   "metadata": {
    "execution": {
     "iopub.execute_input": "2024-01-28T14:31:39.812922Z",
     "iopub.status.busy": "2024-01-28T14:31:39.812425Z",
     "iopub.status.idle": "2024-01-28T14:31:40.000834Z",
     "shell.execute_reply": "2024-01-28T14:31:39.999901Z",
     "shell.execute_reply.started": "2024-01-28T14:31:39.812885Z"
    }
   },
   "outputs": [],
   "source": [
    "df.loc[df.text == \"spirituosen abfüller\", \"label\"] = \"pkg\"\n",
    "df.loc[df.text == \"geothermische bohrungen\", \"label\"] = \"mr\"\n",
    "df.loc[df.text == \"cnc cutter\", \"label\"] = \"cnc\"\n",
    "df.loc[df.text == \"hersteller werkzeugmaschinen\", \"label\"] = \"cnc\"\n",
    "df.loc[df.text == \"gebrauchte holzbearbeitungsmaschinen\", \"label\"] = \"cnc\"\n",
    "df.loc[df.text == \"messer für haushaltswaren\", \"label\"] = \"mr\"\n",
    "df.loc[df.text == \"kunststoff zerspanung\", \"label\"] = \"mr\"\n",
    "df.loc[df.text == \"carbonplatten fräsen\", \"label\"] = \"cnc\"\n",
    "df.loc[df.text == \"lohnabfüllung olivenöl\" , \"label\"] = \"ft\"\n",
    "df.loc[df.text == \"lohnabfüllung nahrungsergänzung\", \"label\"] = \"ft\"\n",
    "df.loc[df.text == \"lohnabfüllung konfitüre\", \"label\"] = \"ft\"\n",
    "df.loc[df.text == \"kunststoffdosen lebensmittel\", \"label\"] = \"pkg\"\n",
    "df.loc[df.text == \"kunststoff zerspanung\", \"label\"] = \"mr\"\n",
    "df.loc[df.text == \"kunststoff tempern\" , \"label\"] = \"pkg\"\n",
    "df.loc[df.text == \"cnc laserschneiden\", \"label\"] = \"cnc\"\n",
    "df.loc[df.text == \"auftauanlagen für gefrorene lebensmittel\", \"label\"] = \"ft\"\n",
    "df.loc[df.text == \"cnc abkantpresse\" ,\"label\"] = \"cnc\"\n",
    "df.loc[df.text == \"cnc drehereien\", \"label\"] = \"cnc\"\n",
    "df.loc[df.text == \"abstandhalter kunststoff\" , \"label\"] = \"mr\"\n",
    "df.loc[df.text == \"lohnabfüllung von ampullen für chemische lösungen\", \"label\"] = \"ch\"\n",
    "df.loc[df.text == \"vorschubwalzen für holzbearbeitungsmaschinen\", \"label\"] = \"cnc\"\n",
    "df.loc[df.text == \"biologische verpackungen\", \"label\"] = \"pkg\"\n",
    "df.loc[df.text == \"werkzeugmaschinen hersteller\",\"label\"] = \"cnc\""
   ]
  },
  {
   "cell_type": "code",
   "execution_count": 53,
   "metadata": {
    "execution": {
     "iopub.execute_input": "2024-01-28T14:31:40.094593Z",
     "iopub.status.busy": "2024-01-28T14:31:40.094151Z",
     "iopub.status.idle": "2024-01-28T14:31:40.108635Z",
     "shell.execute_reply": "2024-01-28T14:31:40.107503Z",
     "shell.execute_reply.started": "2024-01-28T14:31:40.094558Z"
    }
   },
   "outputs": [],
   "source": [
    "df.drop_duplicates(subset = ['text'], keep = 'first', inplace=True)"
   ]
  },
  {
   "cell_type": "code",
   "execution_count": 54,
   "metadata": {
    "execution": {
     "iopub.execute_input": "2024-01-28T14:31:41.583253Z",
     "iopub.status.busy": "2024-01-28T14:31:41.582362Z",
     "iopub.status.idle": "2024-01-28T14:31:41.598275Z",
     "shell.execute_reply": "2024-01-28T14:31:41.597139Z",
     "shell.execute_reply.started": "2024-01-28T14:31:41.583218Z"
    }
   },
   "outputs": [
    {
     "data": {
      "text/html": [
       "<div>\n",
       "<style scoped>\n",
       "    .dataframe tbody tr th:only-of-type {\n",
       "        vertical-align: middle;\n",
       "    }\n",
       "\n",
       "    .dataframe tbody tr th {\n",
       "        vertical-align: top;\n",
       "    }\n",
       "\n",
       "    .dataframe thead th {\n",
       "        text-align: right;\n",
       "    }\n",
       "</style>\n",
       "<table border=\"1\" class=\"dataframe\">\n",
       "  <thead>\n",
       "    <tr style=\"text-align: right;\">\n",
       "      <th></th>\n",
       "      <th>text</th>\n",
       "      <th>label</th>\n",
       "    </tr>\n",
       "  </thead>\n",
       "  <tbody>\n",
       "  </tbody>\n",
       "</table>\n",
       "</div>"
      ],
      "text/plain": [
       "Empty DataFrame\n",
       "Columns: [text, label]\n",
       "Index: []"
      ]
     },
     "execution_count": 54,
     "metadata": {},
     "output_type": "execute_result"
    }
   ],
   "source": [
    "df[df.duplicated(subset = 'text', keep = False)]"
   ]
  },
  {
   "cell_type": "code",
   "execution_count": 55,
   "metadata": {
    "execution": {
     "iopub.execute_input": "2024-01-28T14:31:41.693827Z",
     "iopub.status.busy": "2024-01-28T14:31:41.693457Z",
     "iopub.status.idle": "2024-01-28T14:31:42.307809Z",
     "shell.execute_reply": "2024-01-28T14:31:42.306779Z",
     "shell.execute_reply.started": "2024-01-28T14:31:41.693797Z"
    }
   },
   "outputs": [
    {
     "data": {
      "image/png": "[encoded data removed]",
      "text/plain": [
       "<Figure size 640x480 with 1 Axes>"
      ]
     },
     "metadata": {},
     "output_type": "display_data"
    }
   ],
   "source": [
    "df['word_num'] = df['text'].str.split(\" \").str.len()\n",
    "mean_len_df = np.round(df['word_num'].mean() + df['word_num'].std()).astype(int)\n",
    "sns.kdeplot(df['word_num'], color='b', label='words number')\n",
    "plt.axvline(x=mean_len_df, color='k', linestyle='--', label='mean df len')\n",
    "plt.title('comment length'); plt.legend()\n",
    "plt.show()"
   ]
  },
  {
   "cell_type": "code",
   "execution_count": 56,
   "metadata": {
    "execution": {
     "iopub.execute_input": "2024-01-28T14:31:43.630800Z",
     "iopub.status.busy": "2024-01-28T14:31:43.630397Z",
     "iopub.status.idle": "2024-01-28T14:31:43.641267Z",
     "shell.execute_reply": "2024-01-28T14:31:43.639995Z",
     "shell.execute_reply.started": "2024-01-28T14:31:43.630769Z"
    }
   },
   "outputs": [
    {
     "data": {
      "text/plain": [
       "word_num\n",
       "2     21236\n",
       "3      7206\n",
       "4      2288\n",
       "5       984\n",
       "6       399\n",
       "7       138\n",
       "8        63\n",
       "9        39\n",
       "10       19\n",
       "11       15\n",
       "12       10\n",
       "13        7\n",
       "14        3\n",
       "15        4\n",
       "16        1\n",
       "17        3\n",
       "18        2\n",
       "19        1\n",
       "25        1\n",
       "31        1\n",
       "32        1\n",
       "34        1\n",
       "46        1\n",
       "47        1\n",
       "48        1\n",
       "68        2\n",
       "70        2\n",
       "71        1\n",
       "74        1\n",
       "76        1\n",
       "83        1\n",
       "85        1\n",
       "93        1\n",
       "98        1\n",
       "Name: count, dtype: int64"
      ]
     },
     "execution_count": 56,
     "metadata": {},
     "output_type": "execute_result"
    }
   ],
   "source": [
    "# There is some rows contains long sentences,so using bert or lstm based models require long padding.\n",
    "df.word_num.value_counts().sort_index()"
   ]
  },
  {
   "cell_type": "code",
   "execution_count": 57,
   "metadata": {
    "execution": {
     "iopub.execute_input": "2024-01-28T14:31:47.138694Z",
     "iopub.status.busy": "2024-01-28T14:31:47.138287Z",
     "iopub.status.idle": "2024-01-28T14:31:47.153705Z",
     "shell.execute_reply": "2024-01-28T14:31:47.152943Z",
     "shell.execute_reply.started": "2024-01-28T14:31:47.138662Z"
    }
   },
   "outputs": [
    {
     "data": {
      "text/plain": [
       "text          0\n",
       "label       100\n",
       "word_num      0\n",
       "dtype: int64"
      ]
     },
     "execution_count": 57,
     "metadata": {},
     "output_type": "execute_result"
    }
   ],
   "source": [
    "df.isna().sum()"
   ]
  },
  {
   "cell_type": "code",
   "execution_count": 58,
   "metadata": {
    "execution": {
     "iopub.execute_input": "2024-01-28T14:31:47.362715Z",
     "iopub.status.busy": "2024-01-28T14:31:47.362271Z",
     "iopub.status.idle": "2024-01-28T14:31:47.377613Z",
     "shell.execute_reply": "2024-01-28T14:31:47.376528Z",
     "shell.execute_reply.started": "2024-01-28T14:31:47.362672Z"
    }
   },
   "outputs": [],
   "source": [
    "# Dropping empty label rows\n",
    "df.dropna(inplace=True)"
   ]
  },
  {
   "cell_type": "code",
   "execution_count": 59,
   "metadata": {
    "execution": {
     "iopub.execute_input": "2024-01-28T14:31:49.940872Z",
     "iopub.status.busy": "2024-01-28T14:31:49.939872Z",
     "iopub.status.idle": "2024-01-28T14:31:50.002921Z",
     "shell.execute_reply": "2024-01-28T14:31:50.001603Z",
     "shell.execute_reply.started": "2024-01-28T14:31:49.940829Z"
    }
   },
   "outputs": [],
   "source": [
    "X_train, X_valid, y_train, y_valid = train_test_split(df.text, df.label,\n",
    "                                                  stratify = df.label.values,\n",
    "                                                  random_state=42, \n",
    "                                                  test_size=0.1, shuffle=True)"
   ]
  },
  {
   "cell_type": "code",
   "execution_count": 66,
   "metadata": {
    "execution": {
     "iopub.execute_input": "2024-01-28T14:34:37.212450Z",
     "iopub.status.busy": "2024-01-28T14:34:37.212065Z",
     "iopub.status.idle": "2024-01-28T14:39:45.208997Z",
     "shell.execute_reply": "2024-01-28T14:39:45.208121Z",
     "shell.execute_reply.started": "2024-01-28T14:34:37.212419Z"
    }
   },
   "outputs": [
    {
     "name": "stdout",
     "output_type": "stream",
     "text": [
      "####################\n",
      "F1 score on train set: 0.8979890863981099\n",
      "Classification Report for BERT:\n",
      "               precision    recall  f1-score   support\n",
      "\n",
      "          ch       0.96      0.87      0.91      2828\n",
      "         cnc       0.90      0.79      0.84      1881\n",
      "          ct       0.95      0.92      0.93      3983\n",
      "          ft       0.89      0.95      0.92      8794\n",
      "          mr       0.90      0.85      0.88      3889\n",
      "         pkg       0.89      0.93      0.91      7727\n",
      "\n",
      "    accuracy                           0.91     29102\n",
      "   macro avg       0.92      0.88      0.90     29102\n",
      "weighted avg       0.91      0.91      0.91     29102\n",
      "\n",
      "####################\n",
      "####################\n",
      "Best Parameters: {'classifier__alpha': 1, 'vectorizer__analyzer': 'word', 'vectorizer__max_features': 5000, 'vectorizer__min_df': 1, 'vectorizer__ngram_range': (1, 2), 'vectorizer__strip_accents': 'unicode', 'vectorizer__token_pattern': '\\\\w{1,}'}\n",
      "Best F1 score: 0.8626796242954914\n",
      "####################\n",
      "F1 score on validation set: 0.8629164278388446\n",
      "Classification Report for BERT :\n",
      "               precision    recall  f1-score   support\n",
      "\n",
      "          ch       0.93      0.82      0.87       314\n",
      "         cnc       0.88      0.72      0.79       209\n",
      "          ct       0.93      0.86      0.89       443\n",
      "          ft       0.85      0.94      0.89       977\n",
      "          mr       0.87      0.81      0.84       432\n",
      "         pkg       0.87      0.90      0.88       859\n",
      "\n",
      "    accuracy                           0.88      3234\n",
      "   macro avg       0.89      0.84      0.86      3234\n",
      "weighted avg       0.88      0.88      0.88      3234\n",
      "\n"
     ]
    }
   ],
   "source": [
    "pipeline = Pipeline([\n",
    "    ('vectorizer', CountVectorizer()),\n",
    "    ('classifier', MultinomialNB())\n",
    "])\n",
    "\n",
    "param_grid = {\n",
    "    'vectorizer__min_df': [1,2,3],\n",
    "    'vectorizer__max_features': [2000,3000,5000],\n",
    "    'vectorizer__strip_accents': ['unicode'],\n",
    "    'vectorizer__analyzer': ['word'],\n",
    "    'vectorizer__token_pattern': [r'\\w{1,}'],\n",
    "    'vectorizer__ngram_range': [(1, 2),(1, 3)],\n",
    "    'classifier__alpha': [0.3, 0.5, 0.8, 1]\n",
    "}\n",
    "\n",
    "skf = StratifiedKFold(n_splits=5)\n",
    "\n",
    "grid_search = GridSearchCV(pipeline, param_grid,\n",
    "    scoring=make_scorer(f1_score, average='macro'), cv=skf)\n",
    "\n",
    "grid_search.fit(X_train, y_train)\n",
    "y_train_pred = grid_search.predict(X_train)\n",
    "print('#' * 20)\n",
    "f1 = f1_score(y_train, y_train_pred, average='macro')\n",
    "print(\"F1 score on train set:\", f1)\n",
    "print('Classification Report for BERT:\\n', classification_report(y_train, y_train_pred))\n",
    "\n",
    "print('#' * 20)\n",
    "\n",
    "print('#'*20)\n",
    "print(\"Best Parameters:\", grid_search.best_params_)\n",
    "print(\"Best F1 score:\", grid_search.best_score_)\n",
    "print('#'*20)\n",
    "\n",
    "y_val_pred = grid_search.predict(X_valid)\n",
    "f1 = f1_score(y_valid, y_val_pred, average='macro')\n",
    "print(\"F1 score on validation set:\", f1)\n",
    "print('Classification Report for BERT :\\n', classification_report(y_valid, y_val_pred))"
   ]
  },
  {
   "cell_type": "code",
   "execution_count": 69,
   "metadata": {
    "execution": {
     "iopub.execute_input": "2024-01-28T14:42:59.429697Z",
     "iopub.status.busy": "2024-01-28T14:42:59.429269Z",
     "iopub.status.idle": "2024-01-28T14:42:59.435980Z",
     "shell.execute_reply": "2024-01-28T14:42:59.434410Z",
     "shell.execute_reply.started": "2024-01-28T14:42:59.429665Z"
    }
   },
   "outputs": [],
   "source": []
  },
  {
   "cell_type": "code",
   "execution_count": 70,
   "metadata": {
    "execution": {
     "iopub.execute_input": "2024-01-28T14:43:00.047191Z",
     "iopub.status.busy": "2024-01-28T14:43:00.046761Z",
     "iopub.status.idle": "2024-01-28T14:43:00.091150Z",
     "shell.execute_reply": "2024-01-28T14:43:00.089970Z",
     "shell.execute_reply.started": "2024-01-28T14:43:00.047155Z"
    }
   },
   "outputs": [],
   "source": [
    "with open ('murat_grid-0.1.pkl', 'wb') as f:\n",
    "    pickle.dump(grid_search, f)"
   ]
  },
  {
   "cell_type": "code",
   "execution_count": null,
   "metadata": {},
   "outputs": [],
   "source": []
  }
 ],
 "metadata": {
  "kaggle": {
   "accelerator": "none",
   "dataSources": [
    {
     "databundleVersionId": 7500999,
     "sourceId": 66653,
     "sourceType": "competition"
    },
    {
     "datasetId": 4361813,
     "sourceId": 7491591,
     "sourceType": "datasetVersion"
    }
   ],
   "dockerImageVersionId": 30635,
   "isGpuEnabled": false,
   "isInternetEnabled": true,
   "language": "python",
   "sourceType": "notebook"
  },
  "kernelspec": {
   "display_name": "Python 3 (ipykernel)",
   "language": "python",
   "name": "python3"
  },
  "language_info": {
   "codemirror_mode": {
    "name": "ipython",
    "version": 3
   },
   "file_extension": ".py",
   "mimetype": "text/x-python",
   "name": "python",
   "nbconvert_exporter": "python",
   "pygments_lexer": "ipython3",
   "version": "3.11.5"
  }
 },
 "nbformat": 4,
 "nbformat_minor": 4
}
